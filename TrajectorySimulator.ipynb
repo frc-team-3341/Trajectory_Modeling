{
 "cells": [
  {
   "cell_type": "markdown",
   "id": "7cc268ee-1678-43ce-8437-67c5d40945f5",
   "metadata": {},
   "source": [
    "### Trajectory Simulator for Ball and Goal from the 2020 & 2021 FRC Seasons\n",
    "Interactive simulation for showing the ball trajectory launched toward the Inner & Outer Goals\n",
    "\n",
    "#### Condition of the ball as launched is defined by 4 parameters:\n",
    "1) X0:    Horizontal distance [m] from the Outer Goal; Outer Goal is located at X=0,so X will be negative.\n",
    "2) Y0:    Verticle distance from the ground [m]\n",
    "3) Speed: Speed of the ball [m/s]\n",
    "4) Angle: Angle relative to the ground [deg]\n",
    "\n",
    "#### During flight, the ball is acted on by 2 forces:\n",
    "1) Gravity: Acts downward, with a constant value of g = 9.805 [m/s^2]\n",
    "2) Drag from air resistance:\n",
    "   a) Magnitude of the drag force is proportional to the speed squared\n",
    "   b) Direction of the drag force is opposite to the direction of travel\n",
    "\n",
    "#### The rectangles on the plot indicate the locations of the Outer and Inner goals.\n",
    "1) To go through the Inner Goal, the ball has to also go through the Outer Goal\n",
    "2) The height of the rectangles indicate the height of the opening, while the trajectory line shows where the center of the ball will travel, so if the line is close to the edge of the goal it may get deflected instead of going through.\n",
    "\n",
    "#### Interactive control\n",
    "The 4 sliders are for controlling the initial launch conditions.\n",
    "Various combinations can be tried to see:\n",
    "1) What conditions are viable\n",
    "2) What conditions are more robust\n",
    "    Example: What combnation of Speed & Angle will score a goal over a wider range of X0 values\n",
    "\n"
   ]
  },
  {
   "cell_type": "code",
   "execution_count": 1,
   "id": "9cb33496-175f-4dc2-93d1-7a4c09246aeb",
   "metadata": {
    "tags": []
   },
   "outputs": [],
   "source": [
    "import numpy as np\n",
    "import scipy as sp\n",
    "from scipy.integrate import solve_ivp\n",
    "from scipy.optimize import minimize\n",
    "import matplotlib.pyplot as plt\n",
    "from matplotlib.patches import Circle, Rectangle\n",
    "from matplotlib.collections import PatchCollection\n",
    "import ipywidgets as widgets"
   ]
  },
  {
   "cell_type": "code",
   "execution_count": 2,
   "id": "85cf72dd-41f8-47cc-8f31-8a74c6bdb02e",
   "metadata": {},
   "outputs": [],
   "source": [
    "# Function describing the set of equations of motion for a ball traveling with air resistance\n",
    "def dSdt(t, S, alpha, mass):\n",
    "    # Coupled differential equation for the trajectory of a ball\n",
    "    # Assumes the ball is lauched with some initial speed and some angle relative to the ground\n",
    "    # Model accouts for the force of gravity and drag due to air resistance\n",
    "    #\n",
    "    # x & y are locations; units: [m]\n",
    "    #\n",
    "    # For differential equations with respect to time, we are using \"dot notation\".\n",
    "    #    x_dot = dx/dt, which is also the component of velocity in the X-direction: vx\n",
    "    #    y_dot = dy/dt, which is also the component of velocity in the Y-direction: vy\n",
    "    #\n",
    "    #    vx_dot = dvx/dt, which is also called the acceleration in the X-direction\n",
    "    #    vy_dot = dvy/dt, which is also called the acceleration in the Y-direction\n",
    "    #\n",
    "    #    When defining the set of 4 differential equations, we use the dot notation.\n",
    "    #    But, we use vx and vy, instead of x_dot and y_dot, when referring to the variables for calculations\n",
    "    #\n",
    "    # INPUTS:  t:     time (note, not use by this function but include as a standard format when using solve_ivp)\n",
    "    #          S:     set of equations (column for each variable in the coupled set of equations)\n",
    "    #          alpha: parameter for calculating the drag force due to air resistance; units: [kg/m]\n",
    "    #          mass:  mass of the ball; units: [kg]\n",
    "    # OUTPUTS: x_dot: the updated dx/dt value\n",
    "    #          vx_dot: the updated dvx/dt value\n",
    "    #          y_dot: the updated dy/dt value\n",
    "    #          vy_dot: the updated dvy/dt value\n",
    "    #\n",
    "    #  Model: F_net = F_grav + F_drag\n",
    "    #         Where: F_grav = -g in the Y-direction\n",
    "    #             F_drag = alpha * v^2 in the opposite direction of travel\n",
    "    #             This can be expressed as:\n",
    "    #                 F_drag = -alpha * |v| * v\n",
    "    #                     This form of expression gives:\n",
    "    #                          Magnitude: alpha * v^2\n",
    "    #                          Direction: opposite to the direction of travel\n",
    "    #         The acceleration of the ball is determined by the net force on the ball\n",
    "    #             ma = F_net, so a = F_net / m\n",
    "    #             Using dot notation for the components in the X & Y diraction:\n",
    "    #               ax = vx_dot = -(alpha/m)*|v|*vx\n",
    "    #               ay = vy_dot = -g -(alpha/m)*|v|*vy\n",
    " \n",
    "    x, vx, y, vy = S\n",
    "    g = 9.805\n",
    "    q = (alpha / mass) * np.sqrt(vx**2 + vy**2)\n",
    "    x_dot = vx\n",
    "    vx_dot = -q * vx\n",
    "    y_dot = vy\n",
    "    vy_dot = -g -(q * vy)\n",
    "    return [ x_dot, vx_dot, y_dot, vy_dot]\n"
   ]
  },
  {
   "cell_type": "code",
   "execution_count": 3,
   "id": "971c3612-0f59-4e59-bfeb-86b99989f358",
   "metadata": {},
   "outputs": [],
   "source": [
    "# Determine various values for the yellow ball used in the 2020 & 2021 FRC seasons\n",
    "ball_mass = 0.142     # mass in kg\n",
    "\n",
    "# alpha = 0.5 * air_density * cross-sectional_area * Cd\n",
    "air_density = 1.225                # kg/m^3; value for sea level at 15C\n",
    "ball_radius = (7/2)*(2.54/100)     # 7 inch diameter converted to radius in meters\n",
    "Cd = 0.5                           # Estimate for spherical object\n",
    "alpha = 0.5 * air_density * 3.14159 * (ball_radius**2) * Cd"
   ]
  },
  {
   "cell_type": "code",
   "execution_count": 16,
   "id": "fef7dc4f-6a34-4567-82cf-a69a41aaef52",
   "metadata": {},
   "outputs": [],
   "source": [
    "# Define the default figure size\n",
    "plt.rcParams['figure.figsize'] = [20, 20]"
   ]
  },
  {
   "cell_type": "code",
   "execution_count": 17,
   "id": "2d2dba2d-d93c-4fb9-81b1-e55c7a0badad",
   "metadata": {},
   "outputs": [
    {
     "data": {
      "application/vnd.jupyter.widget-view+json": {
       "model_id": "5fd44607884c4ad2ac53c2f77f05240d",
       "version_major": 2,
       "version_minor": 0
      },
      "text/plain": [
       "Output()"
      ]
     },
     "metadata": {},
     "output_type": "display_data"
    },
    {
     "data": {
      "application/vnd.jupyter.widget-view+json": {
       "model_id": "ace49bbefc4844e5b6fa313ce492e964",
       "version_major": 2,
       "version_minor": 0
      },
      "text/plain": [
       "VBox(children=(FloatSlider(value=10.0, description='Speed:', max=15.0, readout_format='.1f'), FloatSlider(valu…"
      ]
     },
     "metadata": {},
     "output_type": "display_data"
    }
   ],
   "source": [
    "# Define input sliders\n",
    "speed = widgets.FloatSlider(value=10, min=0, max=15, readout_format='.1f', description='Speed:')\n",
    "angle = widgets.FloatSlider(value=45, min=20, max=80, readout_format='.1f', description='Angle:')\n",
    "x0 = widgets.FloatSlider(value=-5, min=-8, max=0, readout_format='.1f', description='X0:')\n",
    "y0 = widgets.FloatSlider(value=0.5, min=0.2, max=1.0, readout_format='.1f', description='Y0:')\n",
    "\n",
    "# Control layout of sliders\n",
    "ui = widgets.VBox([speed, angle, x0, y0])\n",
    "\n",
    "# Function for analysis based on initial conditions\n",
    "def plot(x_init=-5, y_init=0.5, speed_init=10, angle_init=45):\n",
    "    x_initial = x_init\n",
    "    y_initial = y_init\n",
    "\n",
    "    launch_angle_rad = np.deg2rad(angle_init)\n",
    "    vx_initial = speed_init * np.cos(launch_angle_rad)\n",
    "    vy_initial = speed_init * np.sin(launch_angle_rad)\n",
    "\n",
    "    iValues = [x_initial, vx_initial, y_initial, vy_initial]\n",
    "\n",
    "    # Find solution\n",
    "    sol = solve_ivp(dSdt, [0,2], y0=iValues, t_eval=np.linspace(0,2,1000), args=(alpha, ball_mass))\n",
    "\n",
    "    # Plot\n",
    "    #plt.figure(figsize=(10, 10))\n",
    "    fig, ax = plt.subplots()\n",
    "    #ax.set_aspect('equal', 'box')\n",
    "    ax.set_aspect('equal')\n",
    "\n",
    "    plt.plot(sol.y[0], sol.y[2], color='green')\n",
    "\n",
    "    patches = []\n",
    "    alphas = []\n",
    "    outerGoal = Rectangle((0, 2.50 - (0.76 / 2)), 0.05, 0.76)\n",
    "    patches.append(outerGoal)\n",
    "    alphas.append(0.3)\n",
    "    \n",
    "    innerGoal = Rectangle((0.74, 2.50 - (0.33 / 2)), 0.05, 0.33)\n",
    "    patches.append(innerGoal)\n",
    "    alphas.append(0.3)\n",
    "\n",
    "\n",
    "    p = PatchCollection(patches, alpha=alphas)\n",
    "    ax.add_collection(p)\n",
    "\n",
    "    plt.xlim(left = -8, right=2)\n",
    "    plt.ylim(bottom=0, top=3)\n",
    "\n",
    "    plt.show()\n",
    "\n",
    "#####\n",
    "out = widgets.interactive_output(plot, {'x_init': x0, 'y_init': y0, 'speed_init': speed, 'angle_init': angle})\n",
    "\n",
    "display(out, ui)\n"
   ]
  },
  {
   "cell_type": "code",
   "execution_count": null,
   "id": "16297a45-b47b-42d7-9b50-32a7d9a54b0b",
   "metadata": {},
   "outputs": [],
   "source": [
    "\n",
    "\n"
   ]
  }
 ],
 "metadata": {
  "kernelspec": {
   "display_name": "Python 3 (ipykernel)",
   "language": "python",
   "name": "python3"
  },
  "language_info": {
   "codemirror_mode": {
    "name": "ipython",
    "version": 3
   },
   "file_extension": ".py",
   "mimetype": "text/x-python",
   "name": "python",
   "nbconvert_exporter": "python",
   "pygments_lexer": "ipython3",
   "version": "3.8.8"
  }
 },
 "nbformat": 4,
 "nbformat_minor": 5
}
